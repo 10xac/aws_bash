{
 "cells": [
  {
   "cell_type": "code",
   "execution_count": 1,
   "metadata": {},
   "outputs": [
    {
     "name": "stdout",
     "output_type": "stream",
     "text": [
      "False\n"
     ]
    }
   ],
   "source": [
    "import os, sys\n",
    "path='../'\n",
    "print(path in sys.path)\n",
    "if not path in sys.path:\n",
    "    sys.path.append(path)"
   ]
  },
  {
   "cell_type": "code",
   "execution_count": 3,
   "metadata": {},
   "outputs": [],
   "source": [
    "import pandas as pd\n",
    "import pyutils.gdrive as gdr"
   ]
  },
  {
   "cell_type": "code",
   "execution_count": 7,
   "metadata": {},
   "outputs": [
    {
     "name": "stdout",
     "output_type": "stream",
     "text": [
      "****** using service account: /Users/yabebal/.credentials/admin-10ac-service.json\n",
      "service account is being used without delegation..\n"
     ]
    }
   ],
   "source": [
    "# header = ['time_stamp', 'first_name', 'last_name', 'email', 'ssh_key']\n",
    "\n",
    "\n",
    "def get_gsheet_df(gid, sheetname='Sheet0'):\n",
    "    gst = gdr.gsheet(sheetid=gid,fauth='admin-10ac-service.json') \n",
    "    return gst.get_sheet_df(sheetname)\n",
    "    \n",
    "\n",
    "try:\n",
    "    gsid = '1MoqstPnmmKFqsT9FrbrPZvSgZkgWUsRloOxjrwQTQco'\n",
    "    sheetname = 'Form responses 1'\n",
    "    dfb6 = get_gsheet_df(gsid, sheetname=sheetname).T\n",
    "except:\n",
    "    raise\n",
    "    #dfb6 = pd.read_csv('b6_trainees_public_ssh_key.csv')"
   ]
  },
  {
   "cell_type": "code",
   "execution_count": 9,
   "metadata": {},
   "outputs": [
    {
     "name": "stdout",
     "output_type": "stream",
     "text": [
      "(35, 5)\n"
     ]
    },
    {
     "data": {
      "text/html": [
       "<div>\n",
       "<style scoped>\n",
       "    .dataframe tbody tr th:only-of-type {\n",
       "        vertical-align: middle;\n",
       "    }\n",
       "\n",
       "    .dataframe tbody tr th {\n",
       "        vertical-align: top;\n",
       "    }\n",
       "\n",
       "    .dataframe thead th {\n",
       "        text-align: right;\n",
       "    }\n",
       "</style>\n",
       "<table border=\"1\" class=\"dataframe\">\n",
       "  <thead>\n",
       "    <tr style=\"text-align: right;\">\n",
       "      <th></th>\n",
       "      <th>Timestamp</th>\n",
       "      <th>First Name</th>\n",
       "      <th>Last Name</th>\n",
       "      <th>Email (the one you use in google class)</th>\n",
       "      <th>Copy the content of your PUBLIC SSH KEY (open the public key, copy the content,  and paste it here)</th>\n",
       "    </tr>\n",
       "  </thead>\n",
       "  <tbody>\n",
       "    <tr>\n",
       "      <th>1</th>\n",
       "      <td>19/09/2022 10:00:25</td>\n",
       "      <td>Andenet</td>\n",
       "      <td>Alexander</td>\n",
       "      <td>andenet.dev@gmail.com</td>\n",
       "      <td>ssh-rsa AAAAB3NzaC1yc2EAAAADAQABAAABgQDN3tGIYL...</td>\n",
       "    </tr>\n",
       "    <tr>\n",
       "      <th>2</th>\n",
       "      <td>19/09/2022 10:07:07</td>\n",
       "      <td>YISHAK</td>\n",
       "      <td>TADELE</td>\n",
       "      <td>isaaclucky88@gmail.com</td>\n",
       "      <td>ssh-rsa AAAAB3NzaC1yc2EAAAADAQABAAACAQDbqujKZa...</td>\n",
       "    </tr>\n",
       "    <tr>\n",
       "      <th>3</th>\n",
       "      <td>19/09/2022 10:14:41</td>\n",
       "      <td>Fisseha</td>\n",
       "      <td>Estifanos</td>\n",
       "      <td>fisseha.137@gmail.com</td>\n",
       "      <td>ssh-ed25519 AAAAC3NzaC1lZDI1NTE5AAAAIEnEs+x3yl...</td>\n",
       "    </tr>\n",
       "    <tr>\n",
       "      <th>4</th>\n",
       "      <td>19/09/2022 11:14:42</td>\n",
       "      <td>Birhanu</td>\n",
       "      <td>Gebisa</td>\n",
       "      <td>birhanugebisa@gmail.com</td>\n",
       "      <td>AAAAB3NzaC1yc2EAAAADAQABAAACAQC25qHRKk0GaX0I6k...</td>\n",
       "    </tr>\n",
       "    <tr>\n",
       "      <th>5</th>\n",
       "      <td>19/09/2022 11:16:41</td>\n",
       "      <td>Amdework</td>\n",
       "      <td>Asefa</td>\n",
       "      <td>amdeamd7@gmail.com</td>\n",
       "      <td>ssh-rsa AAAAB3NzaC1yc2EAAAADAQABAAABAQCMQOYp+M...</td>\n",
       "    </tr>\n",
       "  </tbody>\n",
       "</table>\n",
       "</div>"
      ],
      "text/plain": [
       "             Timestamp First Name  Last Name  \\\n",
       "1  19/09/2022 10:00:25    Andenet  Alexander   \n",
       "2  19/09/2022 10:07:07     YISHAK     TADELE   \n",
       "3  19/09/2022 10:14:41    Fisseha  Estifanos   \n",
       "4  19/09/2022 11:14:42    Birhanu     Gebisa   \n",
       "5  19/09/2022 11:16:41   Amdework      Asefa   \n",
       "\n",
       "  Email (the one you use in google class)   \\\n",
       "1                    andenet.dev@gmail.com   \n",
       "2                   isaaclucky88@gmail.com   \n",
       "3                    fisseha.137@gmail.com   \n",
       "4                  birhanugebisa@gmail.com   \n",
       "5                       amdeamd7@gmail.com   \n",
       "\n",
       "  Copy the content of your PUBLIC SSH KEY (open the public key, copy the content,  and paste it here)  \n",
       "1  ssh-rsa AAAAB3NzaC1yc2EAAAADAQABAAABgQDN3tGIYL...                                                   \n",
       "2  ssh-rsa AAAAB3NzaC1yc2EAAAADAQABAAACAQDbqujKZa...                                                   \n",
       "3  ssh-ed25519 AAAAC3NzaC1lZDI1NTE5AAAAIEnEs+x3yl...                                                   \n",
       "4  AAAAB3NzaC1yc2EAAAADAQABAAACAQC25qHRKk0GaX0I6k...                                                   \n",
       "5  ssh-rsa AAAAB3NzaC1yc2EAAAADAQABAAABAQCMQOYp+M...                                                   "
      ]
     },
     "execution_count": 9,
     "metadata": {},
     "output_type": "execute_result"
    }
   ],
   "source": [
    "print(dfb6.shape)\n",
    "dfb6.head()"
   ]
  },
  {
   "cell_type": "code",
   "execution_count": 18,
   "metadata": {},
   "outputs": [
    {
     "name": "stdout",
     "output_type": "stream",
     "text": [
      "<class 'pandas.core.frame.DataFrame'>\n",
      "Int64Index: 35 entries, 1 to 35\n",
      "Data columns (total 5 columns):\n",
      " #   Column                                                                                               Non-Null Count  Dtype \n",
      "---  ------                                                                                               --------------  ----- \n",
      " 0   Timestamp                                                                                            35 non-null     object\n",
      " 1   First Name                                                                                           35 non-null     object\n",
      " 2   Last Name                                                                                            35 non-null     object\n",
      " 3   Email (the one you use in google class)                                                              35 non-null     object\n",
      " 4   Copy the content of your PUBLIC SSH KEY (open the public key, copy the content,  and paste it here)  35 non-null     object\n",
      "dtypes: object(5)\n",
      "memory usage: 2.7+ KB\n"
     ]
    }
   ],
   "source": [
    "dfb6.info()"
   ]
  },
  {
   "cell_type": "code",
   "execution_count": 26,
   "metadata": {},
   "outputs": [],
   "source": [
    "# iterate through each record of dataframe and create a durectory inside ./credentials using df.first_name and \n",
    "#df.last_name then create a file inside the directory with the name of df.first_name and df.last_name and \n",
    "#write the content of df.ssh_key inside the file\n",
    "import os\n",
    "\n",
    "batch = 6\n",
    "colmap = {'ssh_key':'Copy the content of your PUBLIC SSH KEY (open the public key, copy the content,  and paste it here)'}\n",
    "\n",
    "def create_dir(df):\n",
    "    nokrow = 0\n",
    "    for index, row in df.iterrows():\n",
    "        \n",
    "        #read cols\n",
    "        first_name = row['First Name'].lower().strip().split()[0]\n",
    "        last_name = row['Last Name'].lower().strip().split()[0]\n",
    "        ssh_key = row[colmap.get('ssh_key')].strip()\n",
    "        \n",
    "        #create folder and file\n",
    "        folder_name = f'/Users/yabebal/Downloads/b{batch}credentials/' + first_name + '_' + last_name\n",
    "        file_name = folder_name + '/authorized_keys'\n",
    "           \n",
    "        #write \n",
    "        try:\n",
    "            os.makedirs(folder_name,exist_ok=True)\n",
    "            print(file_name)\n",
    "            with open(file_name, 'w') as f:\n",
    "                f.write(ssh_key)\n",
    "            nokrow += 1\n",
    "        except: # FileExistsError:\n",
    "            print(f'File {file_name} already exists')\n",
    "            \n",
    "    print(f'Successfully completed {nokrow} outof {df.shape[0]} rows')"
   ]
  },
  {
   "cell_type": "code",
   "execution_count": 28,
   "metadata": {},
   "outputs": [
    {
     "name": "stdout",
     "output_type": "stream",
     "text": [
      "/Users/yabebal/Downloads/b6credentials/andenet_alexander/authorized_keys\n",
      "/Users/yabebal/Downloads/b6credentials/yishak_tadele/authorized_keys\n",
      "/Users/yabebal/Downloads/b6credentials/fisseha_estifanos/authorized_keys\n",
      "/Users/yabebal/Downloads/b6credentials/birhanu_gebisa/authorized_keys\n",
      "/Users/yabebal/Downloads/b6credentials/amdework_asefa/authorized_keys\n",
      "/Users/yabebal/Downloads/b6credentials/josias_djossou/authorized_keys\n",
      "/Users/yabebal/Downloads/b6credentials/natnael_zerihun/authorized_keys\n",
      "/Users/yabebal/Downloads/b6credentials/amanuel_zewdu/authorized_keys\n",
      "/Users/yabebal/Downloads/b6credentials/nahom_habtemichael/authorized_keys\n",
      "/Users/yabebal/Downloads/b6credentials/yohans_samuel/authorized_keys\n",
      "/Users/yabebal/Downloads/b6credentials/degaga_wolde/authorized_keys\n",
      "/Users/yabebal/Downloads/b6credentials/haylemicheal_mekonnen/authorized_keys\n",
      "/Users/yabebal/Downloads/b6credentials/birtukan_kuma/authorized_keys\n",
      "/Users/yabebal/Downloads/b6credentials/mohammed_esamaldin/authorized_keys\n",
      "/Users/yabebal/Downloads/b6credentials/akubazgi_gebremariam/authorized_keys\n",
      "/Users/yabebal/Downloads/b6credentials/janerose_njogu/authorized_keys\n",
      "/Users/yabebal/Downloads/b6credentials/yonas_moges/authorized_keys\n",
      "/Users/yabebal/Downloads/b6credentials/niyomukiza_thamar/authorized_keys\n",
      "/Users/yabebal/Downloads/b6credentials/natnael_melese/authorized_keys\n",
      "/Users/yabebal/Downloads/b6credentials/emtinan_osman/authorized_keys\n",
      "/Users/yabebal/Downloads/b6credentials/margaret_chepkirui/authorized_keys\n",
      "/Users/yabebal/Downloads/b6credentials/genet_dekebo/authorized_keys\n",
      "/Users/yabebal/Downloads/b6credentials/tegisty_hailay/authorized_keys\n",
      "/Users/yabebal/Downloads/b6credentials/nardos_tilahun/authorized_keys\n",
      "/Users/yabebal/Downloads/b6credentials/yididiya_sugamo/authorized_keys\n",
      "/Users/yabebal/Downloads/b6credentials/natnael_melese/authorized_keys\n",
      "/Users/yabebal/Downloads/b6credentials/akubazgi_gebremariam/authorized_keys\n",
      "/Users/yabebal/Downloads/b6credentials/gedion_abebe/authorized_keys\n",
      "/Users/yabebal/Downloads/b6credentials/azaria_tamrat/authorized_keys\n",
      "/Users/yabebal/Downloads/b6credentials/tibarek_berassu/authorized_keys\n",
      "/Users/yabebal/Downloads/b6credentials/michael_abebe/authorized_keys\n",
      "/Users/yabebal/Downloads/b6credentials/wangui_gachugu/authorized_keys\n",
      "/Users/yabebal/Downloads/b6credentials/kibatu_woldemariam/authorized_keys\n",
      "/Users/yabebal/Downloads/b6credentials/adijat_ojutomori/authorized_keys\n",
      "/Users/yabebal/Downloads/b6credentials/yohanes_gutema/authorized_keys\n",
      "Successfully completed 35 outof 35 rows\n"
     ]
    }
   ],
   "source": [
    "create_dir(dfb6)"
   ]
  },
  {
   "cell_type": "code",
   "execution_count": 21,
   "metadata": {},
   "outputs": [
    {
     "data": {
      "text/plain": [
       "'~/Downloads/b6credentials/'"
      ]
     },
     "execution_count": 21,
     "metadata": {},
     "output_type": "execute_result"
    }
   ],
   "source": [
    "f'~/Downloads/b{batch}credentials/'"
   ]
  },
  {
   "cell_type": "code",
   "execution_count": null,
   "metadata": {},
   "outputs": [],
   "source": []
  }
 ],
 "metadata": {
  "kernelspec": {
   "display_name": "Python [conda env:.conda-10x]",
   "language": "python",
   "name": "conda-env-.conda-10x-py"
  },
  "language_info": {
   "codemirror_mode": {
    "name": "ipython",
    "version": 3
   },
   "file_extension": ".py",
   "mimetype": "text/x-python",
   "name": "python",
   "nbconvert_exporter": "python",
   "pygments_lexer": "ipython3",
   "version": "3.7.3"
  },
  "vscode": {
   "interpreter": {
    "hash": "75f376effe886d8b51843b632a4b92665fc33b9300797299f553ce70034dd324"
   }
  }
 },
 "nbformat": 4,
 "nbformat_minor": 4
}
