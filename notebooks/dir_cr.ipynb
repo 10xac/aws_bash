{
 "cells": [
  {
   "cell_type": "code",
   "execution_count": 1,
   "metadata": {},
   "outputs": [
    {
     "name": "stdout",
     "output_type": "stream",
     "text": [
      "False\n"
     ]
    }
   ],
   "source": [
    "import os, sys\n",
    "path='../'\n",
    "print(path in sys.path)\n",
    "if not path in sys.path:\n",
    "    sys.path.append(path)"
   ]
  },
  {
   "cell_type": "code",
   "execution_count": 2,
   "metadata": {},
   "outputs": [],
   "source": [
    "import pandas as pd\n",
    "import pyutils.gdrive as gdr"
   ]
  },
  {
   "cell_type": "code",
   "execution_count": 24,
   "metadata": {},
   "outputs": [
    {
     "name": "stdout",
     "output_type": "stream",
     "text": [
      "****** using service account: /Users/yabebal/.credentials/admin-10ac-service.json\n",
      "service account is being used without delegation..\n"
     ]
    }
   ],
   "source": [
    "# header = ['time_stamp', 'first_name', 'last_name', 'email', 'ssh_key']\n",
    "\n",
    "\n",
    "def get_gsheet_df(gid, sheetname='Sheet0'):\n",
    "    gst = gdr.gsheet(sheetid=gid,fauth='admin-10ac-service.json') \n",
    "    return gst.get_sheet_df(sheetname)\n",
    "    \n",
    "\n",
    "try:\n",
    "    gsid = '1Vn3HaH9JXpSR4L9DCpcSambNBxMZfME5I6Dz9bgwXZQ'\n",
    "    sheetname = 'Form responses 1'\n",
    "    dfb6 = get_gsheet_df(gsid, sheetname=sheetname).T\n",
    "except:\n",
    "    raise\n",
    "    #dfb6 = pd.read_csv('b6_trainees_public_ssh_key.csv')"
   ]
  },
  {
   "cell_type": "code",
   "execution_count": 25,
   "metadata": {},
   "outputs": [
    {
     "name": "stdout",
     "output_type": "stream",
     "text": [
      "(32, 6)\n"
     ]
    },
    {
     "data": {
      "text/html": [
       "<div>\n",
       "<style scoped>\n",
       "    .dataframe tbody tr th:only-of-type {\n",
       "        vertical-align: middle;\n",
       "    }\n",
       "\n",
       "    .dataframe tbody tr th {\n",
       "        vertical-align: top;\n",
       "    }\n",
       "\n",
       "    .dataframe thead th {\n",
       "        text-align: right;\n",
       "    }\n",
       "</style>\n",
       "<table border=\"1\" class=\"dataframe\">\n",
       "  <thead>\n",
       "    <tr style=\"text-align: right;\">\n",
       "      <th></th>\n",
       "      <th>Timestamp</th>\n",
       "      <th>Email address</th>\n",
       "      <th>First Name</th>\n",
       "      <th>Last Name</th>\n",
       "      <th>Group Number</th>\n",
       "      <th>Copy the content of your PUBLIC SSH KEY (open the public key, copy the content,  and paste it here)</th>\n",
       "    </tr>\n",
       "  </thead>\n",
       "  <tbody>\n",
       "    <tr>\n",
       "      <th>1</th>\n",
       "      <td>23/01/2024 19:00:09</td>\n",
       "      <td>natrix277@gmail.com</td>\n",
       "      <td>Natnael</td>\n",
       "      <td>Melese</td>\n",
       "      <td>Tutor</td>\n",
       "      <td>ssh-rsa AAAAB3NzaC1yc2EAAAADAQABAAACAQDAzzcL/d...</td>\n",
       "    </tr>\n",
       "    <tr>\n",
       "      <th>2</th>\n",
       "      <td>23/01/2024 19:01:05</td>\n",
       "      <td>odolbiniyam@gmail.com</td>\n",
       "      <td>Biniyam</td>\n",
       "      <td>Ajaw</td>\n",
       "      <td>G1</td>\n",
       "      <td>ssh-rsa AAAAB3NzaC1yc2EAAAADAQABAAACAQC6daFppt...</td>\n",
       "    </tr>\n",
       "    <tr>\n",
       "      <th>3</th>\n",
       "      <td>23/01/2024 19:06:56</td>\n",
       "      <td>azizadx.tech@gmail.com</td>\n",
       "      <td>Nasrallah</td>\n",
       "      <td>Hassan</td>\n",
       "      <td>G6</td>\n",
       "      <td>ssh-rsa AAAAB3NzaC1yc2EAAAADAQABAAABAQDWYFvJYP...</td>\n",
       "    </tr>\n",
       "    <tr>\n",
       "      <th>4</th>\n",
       "      <td>23/01/2024 19:10:16</td>\n",
       "      <td>abelbekele.addise@gmail.com</td>\n",
       "      <td>Abel</td>\n",
       "      <td>Bekele</td>\n",
       "      <td>G3</td>\n",
       "      <td>ssh-rsa AAAAB3NzaC1yc2EAAAADAQABAAABAQDMv5o9kX...</td>\n",
       "    </tr>\n",
       "    <tr>\n",
       "      <th>5</th>\n",
       "      <td>23/01/2024 19:26:31</td>\n",
       "      <td>mekmeskassa@gmail.com</td>\n",
       "      <td>mekdes</td>\n",
       "      <td>mesfin</td>\n",
       "      <td>G2</td>\n",
       "      <td>ssh-rsa AAAAB3NzaC1yc2EAAAADAQABAAACAQDJFlEw1y...</td>\n",
       "    </tr>\n",
       "  </tbody>\n",
       "</table>\n",
       "</div>"
      ],
      "text/plain": [
       "             Timestamp                Email address First Name Last Name  \\\n",
       "1  23/01/2024 19:00:09          natrix277@gmail.com    Natnael    Melese   \n",
       "2  23/01/2024 19:01:05        odolbiniyam@gmail.com    Biniyam      Ajaw   \n",
       "3  23/01/2024 19:06:56       azizadx.tech@gmail.com  Nasrallah    Hassan   \n",
       "4  23/01/2024 19:10:16  abelbekele.addise@gmail.com       Abel    Bekele   \n",
       "5  23/01/2024 19:26:31        mekmeskassa@gmail.com     mekdes    mesfin   \n",
       "\n",
       "  Group Number  \\\n",
       "1        Tutor   \n",
       "2           G1   \n",
       "3           G6   \n",
       "4           G3   \n",
       "5           G2   \n",
       "\n",
       "  Copy the content of your PUBLIC SSH KEY (open the public key, copy the content,  and paste it here)  \n",
       "1  ssh-rsa AAAAB3NzaC1yc2EAAAADAQABAAACAQDAzzcL/d...                                                   \n",
       "2  ssh-rsa AAAAB3NzaC1yc2EAAAADAQABAAACAQC6daFppt...                                                   \n",
       "3  ssh-rsa AAAAB3NzaC1yc2EAAAADAQABAAABAQDWYFvJYP...                                                   \n",
       "4  ssh-rsa AAAAB3NzaC1yc2EAAAADAQABAAABAQDMv5o9kX...                                                   \n",
       "5  ssh-rsa AAAAB3NzaC1yc2EAAAADAQABAAACAQDJFlEw1y...                                                   "
      ]
     },
     "execution_count": 25,
     "metadata": {},
     "output_type": "execute_result"
    }
   ],
   "source": [
    "print(dfb6.shape)\n",
    "dfb6.head()"
   ]
  },
  {
   "cell_type": "code",
   "execution_count": 28,
   "metadata": {},
   "outputs": [
    {
     "name": "stdout",
     "output_type": "stream",
     "text": [
      "<class 'pandas.core.frame.DataFrame'>\n",
      "Int64Index: 32 entries, 1 to 32\n",
      "Data columns (total 6 columns):\n",
      " #   Column                                                                                               Non-Null Count  Dtype \n",
      "---  ------                                                                                               --------------  ----- \n",
      " 0   Timestamp                                                                                            32 non-null     object\n",
      " 1   Email address                                                                                        32 non-null     object\n",
      " 2   First Name                                                                                           32 non-null     object\n",
      " 3   Last Name                                                                                            32 non-null     object\n",
      " 4   Group Number                                                                                         32 non-null     object\n",
      " 5   Copy the content of your PUBLIC SSH KEY (open the public key, copy the content,  and paste it here)  32 non-null     object\n",
      "dtypes: object(6)\n",
      "memory usage: 1.8+ KB\n"
     ]
    }
   ],
   "source": [
    "dfb6.info()"
   ]
  },
  {
   "cell_type": "code",
   "execution_count": 83,
   "metadata": {},
   "outputs": [],
   "source": [
    "# iterate through each record of dataframe and create a durectory inside ./credentials using df.first_name and \n",
    "#df.last_name then create a file inside the directory with the name of df.first_name and df.last_name and \n",
    "#write the content of df.ssh_key inside the file\n",
    "import os\n",
    "\n",
    "prefix = \"cohort-a\"\n",
    "colmap = {'ssh_key':'Copy the content of your PUBLIC SSH KEY (open the public key, copy the content,  and paste it here)'}\n",
    "\n",
    "def create_user_file(df, week=7):\n",
    "    nokrow = 0\n",
    "    dfg = df.groupby('Group Number')\n",
    "    for group, gdf in dfg:  \n",
    "        print('group', group)\n",
    "        gdf = gdf.fillna('')\n",
    "        \n",
    "        def func2(row):\n",
    "            return f\"{len(row), type(row)}\"\n",
    "        \n",
    "        def func(row):\n",
    "            #x, y = row['First Name'], row['Last Name']\n",
    "            x, y = row[0], row[1]\n",
    "            \n",
    "            try:\n",
    "                x = x.lower().strip().split()[0]\n",
    "            except:\n",
    "                x = \"\"\n",
    "            try:\n",
    "                y = y.lower().strip().split()[0]\n",
    "            except:\n",
    "                y = \"\"\n",
    "                \n",
    "            u = \"\"\n",
    "            if x:\n",
    "                u += x\n",
    "            if y:\n",
    "                u += \"_\" + y\n",
    "                \n",
    "            if x or y:\n",
    "                return u\n",
    "            else:\n",
    "                return pd.nan\n",
    "                        \n",
    "        df_user_name = pd.DataFrame()        \n",
    "        df_user_name['user_name'] = gdf[['First Name','Last Name']].apply(lambda row:  func(row), axis=1).dropna()     \n",
    "        df_user_name['access'] = 'root'\n",
    "        print(df_user_name)\n",
    "        \n",
    "        #create folder and file\n",
    "        file_name = f'/Users/yabebal/My-Works/10academy/Codes/aws_bash/compute/user/{prefix}-w{week}-{group.lower()}.txt'\n",
    "        print('writing to file', file_name)\n",
    "        df_user_name.to_csv(file_name, header=False, index=False, sep=',')\n",
    "        \n",
    "def create_dir(df):\n",
    "    nokrow = 0\n",
    "    for index, row in df.iterrows():\n",
    "        \n",
    "        #read cols\n",
    "        user_name\n",
    "        try:\n",
    "            first_name = row['First Name'].lower().strip().split()[0]\n",
    "            user_name += first_name\n",
    "        except:\n",
    "            first_name = \"\"\n",
    "        try:            \n",
    "            last_name = row['Last Name'].lower().strip().split()[0]\n",
    "            user_name += '_' + last_name\n",
    "        except:\n",
    "            last_name = \"\"\n",
    "        \n",
    "        if len(user_name)==0:\n",
    "            continue\n",
    "                    \n",
    "        ssh_key = row[colmap.get('ssh_key')].strip()\n",
    "        \n",
    "        #create folder and file\n",
    "        folder_name = f'/Users/yabebal/Downloads/{prefix}-credentials/' + user_name\n",
    "        file_name = folder_name + '/authorized_keys'\n",
    "           \n",
    "        #write \n",
    "        try:\n",
    "            os.makedirs(folder_name,exist_ok=True)\n",
    "            print(file_name)\n",
    "            with open(file_name, 'w') as f:\n",
    "                f.write(ssh_key)\n",
    "            nokrow += 1\n",
    "        except: # FileExistsError:\n",
    "            print(f'File {file_name} already exists')\n",
    "            \n",
    "    print(f'Successfully completed {nokrow} outof {df.shape[0]} rows')"
   ]
  },
  {
   "cell_type": "code",
   "execution_count": 84,
   "metadata": {},
   "outputs": [
    {
     "name": "stdout",
     "output_type": "stream",
     "text": [
      "group G1\n",
      "                user_name access\n",
      "2            biniyam_ajaw   root\n",
      "9   mickiyas_kinfemichael   root\n",
      "10            naol_lamesa   root\n",
      "11           fanuel_abebe   root\n",
      "12         elias_assamnew   root\n",
      "17         lillian_assefa   root\n",
      "writing to file /Users/yabebal/My-Works/10academy/Codes/aws_bash/compute/user/cohort-a-w7-g1.txt\n",
      "group G2\n",
      "           user_name access\n",
      "5      mekdes_mesfin   root\n",
      "14       meron_muche   root\n",
      "15       meron_muche   root\n",
      "26      eyaya_eneyew   root\n",
      "27  abdulhamid_mussa   root\n",
      "28       meron_muche   root\n",
      "32      rediet_girma   root\n",
      "writing to file /Users/yabebal/My-Works/10academy/Codes/aws_bash/compute/user/cohort-a-w7-g2.txt\n",
      "group G3\n",
      "         user_name access\n",
      "4      abel_bekele   root\n",
      "22  mubarek_hussen   root\n",
      "30    kerod_beyene   root\n",
      "writing to file /Users/yabebal/My-Works/10academy/Codes/aws_bash/compute/user/cohort-a-w7-g3.txt\n",
      "group G4\n",
      "             user_name access\n",
      "8    rodolphe_segbedji   root\n",
      "16       diriba_bekele   root\n",
      "20  alexander_mengesha   root\n",
      "23  alexander_mengesha   root\n",
      "29        yvvon_majala   root\n",
      "writing to file /Users/yabebal/My-Works/10academy/Codes/aws_bash/compute/user/cohort-a-w7-g4.txt\n",
      "group G5\n",
      "          user_name access\n",
      "18   habtamu_feyera   root\n",
      "21   habtamu_feyera   root\n",
      "24  abraham_tesfaye   root\n",
      "25      daniel_geda   root\n",
      "writing to file /Users/yabebal/My-Works/10academy/Codes/aws_bash/compute/user/cohort-a-w7-g5.txt\n",
      "group G6\n",
      "           user_name access\n",
      "3   nasrallah_hassan   root\n",
      "19          misganaw   root\n",
      "31     yoftahe_gizaw   root\n",
      "writing to file /Users/yabebal/My-Works/10academy/Codes/aws_bash/compute/user/cohort-a-w7-g6.txt\n",
      "group Tutor\n",
      "            user_name access\n",
      "1      natnael_melese   root\n",
      "6     rehmet_yeshanew   root\n",
      "7       emtinan_osman   root\n",
      "13  fikerte_alemayheu   root\n",
      "writing to file /Users/yabebal/My-Works/10academy/Codes/aws_bash/compute/user/cohort-a-w7-tutor.txt\n"
     ]
    }
   ],
   "source": [
    "create_user_file(dfb6)\n",
    "#!rm -rf /Users/yabebal/My-Works/10academy/Codes/aws_bash/compute/user/cohort-a*.txt"
   ]
  },
  {
   "cell_type": "code",
   "execution_count": 42,
   "metadata": {},
   "outputs": [
    {
     "name": "stdout",
     "output_type": "stream",
     "text": [
      "/Users/yabebal/Downloads/cohort-a-credentials/natnael_melese/authorized_keys\n",
      "/Users/yabebal/Downloads/cohort-a-credentials/biniyam_ajaw/authorized_keys\n",
      "/Users/yabebal/Downloads/cohort-a-credentials/nasrallah_hassan/authorized_keys\n",
      "/Users/yabebal/Downloads/cohort-a-credentials/abel_bekele/authorized_keys\n",
      "/Users/yabebal/Downloads/cohort-a-credentials/mekdes_mesfin/authorized_keys\n",
      "/Users/yabebal/Downloads/cohort-a-credentials/rehmet_yeshanew/authorized_keys\n",
      "/Users/yabebal/Downloads/cohort-a-credentials/emtinan_osman/authorized_keys\n",
      "/Users/yabebal/Downloads/cohort-a-credentials/rodolphe_segbedji/authorized_keys\n",
      "/Users/yabebal/Downloads/cohort-a-credentials/mickiyas_kinfemichael/authorized_keys\n",
      "/Users/yabebal/Downloads/cohort-a-credentials/naol_lamesa/authorized_keys\n",
      "/Users/yabebal/Downloads/cohort-a-credentials/fanuel_abebe/authorized_keys\n",
      "/Users/yabebal/Downloads/cohort-a-credentials/elias_assamnew/authorized_keys\n",
      "/Users/yabebal/Downloads/cohort-a-credentials/fikerte_alemayheu/authorized_keys\n",
      "/Users/yabebal/Downloads/cohort-a-credentials/meron_muche/authorized_keys\n",
      "/Users/yabebal/Downloads/cohort-a-credentials/meron_muche/authorized_keys\n",
      "/Users/yabebal/Downloads/cohort-a-credentials/diriba_bekele/authorized_keys\n",
      "/Users/yabebal/Downloads/cohort-a-credentials/lillian_assefa/authorized_keys\n",
      "/Users/yabebal/Downloads/cohort-a-credentials/habtamu_feyera/authorized_keys\n",
      "/Users/yabebal/Downloads/cohort-a-credentials/misganaw_/authorized_keys\n",
      "/Users/yabebal/Downloads/cohort-a-credentials/alexander_mengesha/authorized_keys\n",
      "/Users/yabebal/Downloads/cohort-a-credentials/habtamu_feyera/authorized_keys\n",
      "/Users/yabebal/Downloads/cohort-a-credentials/mubarek_hussen/authorized_keys\n",
      "/Users/yabebal/Downloads/cohort-a-credentials/alexander_mengesha/authorized_keys\n",
      "/Users/yabebal/Downloads/cohort-a-credentials/abraham_tesfaye/authorized_keys\n",
      "/Users/yabebal/Downloads/cohort-a-credentials/daniel_geda/authorized_keys\n",
      "/Users/yabebal/Downloads/cohort-a-credentials/eyaya_eneyew/authorized_keys\n",
      "/Users/yabebal/Downloads/cohort-a-credentials/abdulhamid_mussa/authorized_keys\n",
      "/Users/yabebal/Downloads/cohort-a-credentials/meron_muche/authorized_keys\n",
      "/Users/yabebal/Downloads/cohort-a-credentials/yvvon_majala/authorized_keys\n",
      "/Users/yabebal/Downloads/cohort-a-credentials/kerod_beyene/authorized_keys\n",
      "/Users/yabebal/Downloads/cohort-a-credentials/yoftahe_gizaw/authorized_keys\n",
      "/Users/yabebal/Downloads/cohort-a-credentials/rediet_girma/authorized_keys\n",
      "Successfully completed 32 outof 32 rows\n"
     ]
    }
   ],
   "source": [
    "create_dir(dfb6)"
   ]
  },
  {
   "cell_type": "code",
   "execution_count": 46,
   "metadata": {},
   "outputs": [
    {
     "name": "stdout",
     "output_type": "stream",
     "text": [
      "~/Downloads/cohort-a-credentials/ s3://10ac-cohort-a/credentials/ --recursive --profile ustenac\n"
     ]
    }
   ],
   "source": [
    "#!aws s3 mb s3://10ac-{prefix} --profile ustenac\n",
    "print(f\"~/Downloads/{prefix}-credentials/ s3://10ac-{prefix}/credentials/ --recursive --profile ustenac\")"
   ]
  },
  {
   "cell_type": "code",
   "execution_count": null,
   "metadata": {},
   "outputs": [],
   "source": []
  }
 ],
 "metadata": {
  "kernelspec": {
   "display_name": "Python 3",
   "language": "python",
   "name": "python3"
  },
  "language_info": {
   "codemirror_mode": {
    "name": "ipython",
    "version": 3
   },
   "file_extension": ".py",
   "mimetype": "text/x-python",
   "name": "python",
   "nbconvert_exporter": "python",
   "pygments_lexer": "ipython3",
   "version": "3.7.3"
  }
 },
 "nbformat": 4,
 "nbformat_minor": 4
}
